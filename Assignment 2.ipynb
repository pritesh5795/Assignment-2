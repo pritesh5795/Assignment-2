{
 "cells": [
  {
   "cell_type": "code",
   "execution_count": 1,
   "id": "4557ebc8",
   "metadata": {},
   "outputs": [],
   "source": [
    "#Q1.1 What are the two values of the Boolean data type? \n",
    "#Ans. 1) True , 2) False\n",
    "\n",
    "#Q1.2 How do you write them?\n",
    "#Ans. for True, 2>1 ; for false 2<1 "
   ]
  },
  {
   "cell_type": "code",
   "execution_count": 2,
   "id": "0340eb87",
   "metadata": {},
   "outputs": [
    {
     "data": {
      "text/plain": [
       "True"
      ]
     },
     "execution_count": 2,
     "metadata": {},
     "output_type": "execute_result"
    }
   ],
   "source": [
    "2>1"
   ]
  },
  {
   "cell_type": "code",
   "execution_count": 3,
   "id": "6ea37359",
   "metadata": {},
   "outputs": [
    {
     "data": {
      "text/plain": [
       "False"
      ]
     },
     "execution_count": 3,
     "metadata": {},
     "output_type": "execute_result"
    }
   ],
   "source": [
    "2<1"
   ]
  },
  {
   "cell_type": "code",
   "execution_count": 4,
   "id": "af284a87",
   "metadata": {},
   "outputs": [],
   "source": [
    "#Q2. What are the three different types of Boolean operators?\n",
    "#Ans. 1) AND , 2) OR, 3) NOT"
   ]
  },
  {
   "cell_type": "code",
   "execution_count": 1,
   "id": "53b0983c",
   "metadata": {},
   "outputs": [
    {
     "name": "stdout",
     "output_type": "stream",
     "text": [
      "True and True is; True\n",
      "True and False is; False\n",
      "False and True is; False\n",
      "False and False is; False\n"
     ]
    }
   ],
   "source": [
    "#Q3. Make a list of each Boolean operator's truth tables \n",
    "#Ans. \n",
    "print (\"True and True is; \" + str(True and True))\n",
    "print (\"True and False is; \" + str(True and False))\n",
    "print (\"False and True is; \" + str(False and True))\n",
    "print (\"False and False is; \" + str(False and False))"
   ]
  },
  {
   "cell_type": "code",
   "execution_count": 2,
   "id": "129e7dbc",
   "metadata": {},
   "outputs": [
    {
     "name": "stdout",
     "output_type": "stream",
     "text": [
      "True or True is; True\n",
      "True or False is; True\n",
      "False or True is; True\n",
      "False or False is; False\n"
     ]
    }
   ],
   "source": [
    "print (\"True or True is; \" + str(True or True))\n",
    "print (\"True or False is; \" + str(True or False))\n",
    "print (\"False or True is; \" + str(False or True))\n",
    "print (\"False or False is; \" + str(False or False))"
   ]
  },
  {
   "cell_type": "code",
   "execution_count": 6,
   "id": "3af0ac8b",
   "metadata": {},
   "outputs": [],
   "source": [
    "#Q4. What are the values of the following expressions\n",
    "#    1) (5 > 4) and (3 == 5)                  = False\n",
    "#    2) not (5 > 4)                           = False\n",
    "#    3) (5 > 4) or (3 == 5)                   = True\n",
    "#    4) not ((5 > 4) or (3 == 5))             = False\n",
    "#    5) (True and True) and (True == False)   = False\n",
    "#    6) (not False) or (not True)             = True"
   ]
  },
  {
   "cell_type": "code",
   "execution_count": 7,
   "id": "c262a3f2",
   "metadata": {},
   "outputs": [
    {
     "data": {
      "text/plain": [
       "False"
      ]
     },
     "execution_count": 7,
     "metadata": {},
     "output_type": "execute_result"
    }
   ],
   "source": [
    "(5 > 4) and (3 == 5) "
   ]
  },
  {
   "cell_type": "code",
   "execution_count": 9,
   "id": "9f3707f0",
   "metadata": {},
   "outputs": [
    {
     "data": {
      "text/plain": [
       "False"
      ]
     },
     "execution_count": 9,
     "metadata": {},
     "output_type": "execute_result"
    }
   ],
   "source": [
    "not (5 > 4)"
   ]
  },
  {
   "cell_type": "code",
   "execution_count": 10,
   "id": "59f4597e",
   "metadata": {},
   "outputs": [
    {
     "data": {
      "text/plain": [
       "True"
      ]
     },
     "execution_count": 10,
     "metadata": {},
     "output_type": "execute_result"
    }
   ],
   "source": [
    "(5 > 4) or (3 == 5)"
   ]
  },
  {
   "cell_type": "code",
   "execution_count": 11,
   "id": "245bdf22",
   "metadata": {},
   "outputs": [
    {
     "data": {
      "text/plain": [
       "False"
      ]
     },
     "execution_count": 11,
     "metadata": {},
     "output_type": "execute_result"
    }
   ],
   "source": [
    "not ((5 > 4) or (3 == 5))"
   ]
  },
  {
   "cell_type": "code",
   "execution_count": 12,
   "id": "e6c5db6b",
   "metadata": {},
   "outputs": [
    {
     "data": {
      "text/plain": [
       "False"
      ]
     },
     "execution_count": 12,
     "metadata": {},
     "output_type": "execute_result"
    }
   ],
   "source": [
    "(True and True) and (True == False)"
   ]
  },
  {
   "cell_type": "code",
   "execution_count": 13,
   "id": "6f5c87d1",
   "metadata": {},
   "outputs": [
    {
     "data": {
      "text/plain": [
       "True"
      ]
     },
     "execution_count": 13,
     "metadata": {},
     "output_type": "execute_result"
    }
   ],
   "source": [
    "(not False) or (not True)"
   ]
  },
  {
   "cell_type": "code",
   "execution_count": 14,
   "id": "5a83db50",
   "metadata": {},
   "outputs": [],
   "source": [
    "#Q5. What are the six comparison operators?\n",
    "#Ans. 1) is equal to                  =   ==\n",
    "#     2) is not equal to              =   !=\n",
    "#     3) is less than                 =   <\n",
    "#     4) is greater than              =   >\n",
    "#     5) is less than or equal to     =   <=\n",
    "#     6) is greater than or equal to  =   >="
   ]
  },
  {
   "cell_type": "code",
   "execution_count": 15,
   "id": "668e8074",
   "metadata": {},
   "outputs": [],
   "source": [
    "#Q6.1 How do you tell the difference between the equal to and assignment operators?\n",
    "#Ans. == (equal to) checks whether the two given operand are equal or not. \n",
    "#     eg. 5==5 out will be True\n",
    "\n",
    "#     = (assignment) used to assign value.\n",
    "#     eg. a=10 ; b=20 \n",
    "\n",
    "#Q6.2 Describe a condition and when you would use one.\n",
    "#Ans. as follows,"
   ]
  },
  {
   "cell_type": "code",
   "execution_count": 16,
   "id": "6c209189",
   "metadata": {},
   "outputs": [
    {
     "data": {
      "text/plain": [
       "True"
      ]
     },
     "execution_count": 16,
     "metadata": {},
     "output_type": "execute_result"
    }
   ],
   "source": [
    "5==5"
   ]
  },
  {
   "cell_type": "code",
   "execution_count": 25,
   "id": "e7c40b36",
   "metadata": {},
   "outputs": [
    {
     "name": "stdout",
     "output_type": "stream",
     "text": [
      "equal to\n"
     ]
    }
   ],
   "source": [
    "if 5==5:\n",
    "    print (\"equal to\")\n",
    "else:\n",
    "    print(\"assignment\")"
   ]
  },
  {
   "cell_type": "code",
   "execution_count": 26,
   "id": "1b0087f2",
   "metadata": {},
   "outputs": [],
   "source": [
    "a=10 ; b=20"
   ]
  },
  {
   "cell_type": "code",
   "execution_count": 27,
   "id": "b660400f",
   "metadata": {},
   "outputs": [
    {
     "data": {
      "text/plain": [
       "30"
      ]
     },
     "execution_count": 27,
     "metadata": {},
     "output_type": "execute_result"
    }
   ],
   "source": [
    "a+b"
   ]
  },
  {
   "cell_type": "code",
   "execution_count": 28,
   "id": "b0b3a80a",
   "metadata": {},
   "outputs": [
    {
     "data": {
      "text/plain": [
       "200"
      ]
     },
     "execution_count": 28,
     "metadata": {},
     "output_type": "execute_result"
    }
   ],
   "source": [
    "a*b"
   ]
  },
  {
   "cell_type": "code",
   "execution_count": 30,
   "id": "d195db32",
   "metadata": {},
   "outputs": [],
   "source": [
    "#Q7. Identify the three blocks in this code:\n",
    "#    spam = 0\n",
    "#    if spam == 10:\n",
    "#       print('eggs')\n",
    "#    if spam > 5:\n",
    "#       print('bacon')\n",
    "#    else:\n",
    "#       print('ham')\n",
    "#       print('spam')\n",
    "#       print('spam')\n",
    "\n",
    "#Ans. 1) Assignment\n",
    "#     2) Equal to\n",
    "#     3) Print"
   ]
  },
  {
   "cell_type": "code",
   "execution_count": 32,
   "id": "f40594cc",
   "metadata": {},
   "outputs": [
    {
     "name": "stdout",
     "output_type": "stream",
     "text": [
      "ham\n",
      "spam\n",
      "spam\n"
     ]
    }
   ],
   "source": [
    "\n",
    "spam = 0\n",
    "if spam == 10:\n",
    "    print('eggs')\n",
    "if spam > 5:\n",
    "    print('bacon')\n",
    "else:\n",
    "    print('ham')\n",
    "    print('spam')\n",
    "    print('spam')\n"
   ]
  },
  {
   "cell_type": "code",
   "execution_count": 44,
   "id": "8594f28f",
   "metadata": {},
   "outputs": [
    {
     "name": "stdout",
     "output_type": "stream",
     "text": [
      "1\n",
      "hello\n"
     ]
    }
   ],
   "source": [
    "#Q8. . Write code that prints Hello if 1 is stored in spam, prints Howdy if 2 is stored in spam, and prints Greetings! if anything else is stored in spam.\n",
    "#Ans. \n",
    "spam= int(input())\n",
    "if spam ==1:\n",
    "    print (\"hello\")"
   ]
  },
  {
   "cell_type": "code",
   "execution_count": 45,
   "id": "a2a67620",
   "metadata": {},
   "outputs": [
    {
     "name": "stdout",
     "output_type": "stream",
     "text": [
      "2\n",
      "howdy\n"
     ]
    }
   ],
   "source": [
    "spam= int(input())\n",
    "if spam ==2:\n",
    "    print (\"howdy\")"
   ]
  },
  {
   "cell_type": "code",
   "execution_count": 46,
   "id": "dfc93008",
   "metadata": {},
   "outputs": [
    {
     "name": "stdout",
     "output_type": "stream",
     "text": [
      "3\n",
      "greetings\n"
     ]
    }
   ],
   "source": [
    "spam= int(input())\n",
    "if spam ==4:\n",
    "    print (\"pritesh\")\n",
    "else:\n",
    "    print (\"greetings\")"
   ]
  },
  {
   "cell_type": "code",
   "execution_count": 48,
   "id": "4113d668",
   "metadata": {},
   "outputs": [
    {
     "name": "stdout",
     "output_type": "stream",
     "text": [
      "3\n",
      "greetings\n"
     ]
    }
   ],
   "source": [
    "spam= int(input())\n",
    "if spam ==1:\n",
    "    print (\"hello\")\n",
    "elif spam ==2:\n",
    "    print (\"howdy\")\n",
    "else:\n",
    "    print (\"greetings\")"
   ]
  },
  {
   "cell_type": "code",
   "execution_count": 49,
   "id": "46211118",
   "metadata": {},
   "outputs": [],
   "source": [
    "#Q9. If your programme is stuck in an endless loop, what keys you’ll press?\n",
    "#Ans. Ctrl + c"
   ]
  },
  {
   "cell_type": "code",
   "execution_count": 50,
   "id": "eacdbeeb",
   "metadata": {},
   "outputs": [],
   "source": [
    "#Q10. How can you tell the difference between break and continue?\n",
    "#Ans. 1) Break    = done with loop entirely. i.e break entire loop. \n",
    "#     2) Continue = done with iteration of loop, and go on next one. \n",
    "#     eg. as follows,"
   ]
  },
  {
   "cell_type": "code",
   "execution_count": 2,
   "id": "3bf547fd",
   "metadata": {},
   "outputs": [
    {
     "name": "stdout",
     "output_type": "stream",
     "text": [
      "1\n",
      "2\n",
      "3\n",
      "4\n"
     ]
    }
   ],
   "source": [
    "a = 1 \n",
    "while a < 5 :\n",
    "    print(a)\n",
    "    if a == 4 :\n",
    "        break\n",
    "    a = a +1"
   ]
  },
  {
   "cell_type": "code",
   "execution_count": 14,
   "id": "3da389b2",
   "metadata": {},
   "outputs": [
    {
     "name": "stdout",
     "output_type": "stream",
     "text": [
      "1\n",
      "2\n",
      "3\n",
      "4\n"
     ]
    }
   ],
   "source": [
    "a = 1 \n",
    "while a < 5 :\n",
    "    print(a)\n",
    "    a = a + 1\n",
    "    if a == 3:\n",
    "        continue"
   ]
  },
  {
   "cell_type": "code",
   "execution_count": 4,
   "id": "442d1470",
   "metadata": {},
   "outputs": [],
   "source": [
    "#Q11. In a for loop, what is the difference between range(10), range(0, 10), and range(0, 10, 1)?\n",
    "#Ans. 1) for range(10)      = is not the value of 0 to 10, but the values 0 to 9.\n",
    "#     2) for range(0,10)    = which mean value from 0 to 9 (but not including 10)\n",
    "#     3) for range (0,10,1) = The range() function defaults to increment the sequence by 1, however it is possible to specify the increment value by adding a third parameter: range(0,10,1).\n",
    "#     as follows, "
   ]
  },
  {
   "cell_type": "code",
   "execution_count": 5,
   "id": "73d89f84",
   "metadata": {},
   "outputs": [
    {
     "name": "stdout",
     "output_type": "stream",
     "text": [
      "0\n",
      "1\n",
      "2\n",
      "3\n",
      "4\n",
      "5\n",
      "6\n",
      "7\n",
      "8\n",
      "9\n"
     ]
    }
   ],
   "source": [
    "for x in range(10):\n",
    "    print(x)"
   ]
  },
  {
   "cell_type": "code",
   "execution_count": 6,
   "id": "71a2aa85",
   "metadata": {},
   "outputs": [
    {
     "name": "stdout",
     "output_type": "stream",
     "text": [
      "0\n",
      "1\n",
      "2\n",
      "3\n",
      "4\n",
      "5\n",
      "6\n",
      "7\n",
      "8\n",
      "9\n"
     ]
    }
   ],
   "source": [
    "for x in range(0,10):\n",
    "    print(x)"
   ]
  },
  {
   "cell_type": "code",
   "execution_count": 7,
   "id": "12351370",
   "metadata": {},
   "outputs": [
    {
     "name": "stdout",
     "output_type": "stream",
     "text": [
      "0\n",
      "1\n",
      "2\n",
      "3\n",
      "4\n",
      "5\n",
      "6\n",
      "7\n",
      "8\n",
      "9\n"
     ]
    }
   ],
   "source": [
    "for x in range(0,10,1):\n",
    "    print(x)"
   ]
  },
  {
   "cell_type": "code",
   "execution_count": 8,
   "id": "5407d121",
   "metadata": {},
   "outputs": [
    {
     "name": "stdout",
     "output_type": "stream",
     "text": [
      "0\n",
      "2\n",
      "4\n",
      "6\n",
      "8\n"
     ]
    }
   ],
   "source": [
    "for x in range(0,10,2):\n",
    "    print(x)"
   ]
  },
  {
   "cell_type": "code",
   "execution_count": 9,
   "id": "4fca1674",
   "metadata": {},
   "outputs": [
    {
     "name": "stdout",
     "output_type": "stream",
     "text": [
      "1\n",
      "2\n",
      "3\n",
      "4\n",
      "5\n",
      "6\n",
      "7\n",
      "8\n",
      "9\n",
      "10\n"
     ]
    }
   ],
   "source": [
    "#Q12. Write a short program that prints the numbers 1 to 10 using a for loop. Then write an equivalent program that prints the numbers 1 to 10 using a while loop.\n",
    "#Ans. \n",
    "for x in range(1,11):\n",
    "        print(x)"
   ]
  },
  {
   "cell_type": "code",
   "execution_count": 10,
   "id": "87d7fec1",
   "metadata": {},
   "outputs": [
    {
     "name": "stdout",
     "output_type": "stream",
     "text": [
      "1\n",
      "2\n",
      "3\n",
      "4\n",
      "5\n",
      "6\n",
      "7\n",
      "8\n",
      "9\n",
      "10\n"
     ]
    }
   ],
   "source": [
    "x=1\n",
    "while x<11:\n",
    "    print (x)\n",
    "    x +=1"
   ]
  },
  {
   "cell_type": "code",
   "execution_count": 11,
   "id": "f7190bcd",
   "metadata": {},
   "outputs": [],
   "source": [
    "#Q13. If you had a function named bacon() inside a module named spam, how would you call it after importing spam?\n",
    "#Ans. spam.bacon()"
   ]
  },
  {
   "cell_type": "code",
   "execution_count": null,
   "id": "829c88a8",
   "metadata": {},
   "outputs": [],
   "source": []
  }
 ],
 "metadata": {
  "kernelspec": {
   "display_name": "Python 3 (ipykernel)",
   "language": "python",
   "name": "python3"
  },
  "language_info": {
   "codemirror_mode": {
    "name": "ipython",
    "version": 3
   },
   "file_extension": ".py",
   "mimetype": "text/x-python",
   "name": "python",
   "nbconvert_exporter": "python",
   "pygments_lexer": "ipython3",
   "version": "3.9.7"
  }
 },
 "nbformat": 4,
 "nbformat_minor": 5
}
